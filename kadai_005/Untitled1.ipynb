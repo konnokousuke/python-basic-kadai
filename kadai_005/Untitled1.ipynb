{
  "nbformat": 4,
  "nbformat_minor": 0,
  "metadata": {
    "colab": {
      "provenance": []
    },
    "kernelspec": {
      "name": "python3",
      "display_name": "Python 3"
    },
    "language_info": {
      "name": "python"
    }
  },
  "cells": [
    {
      "cell_type": "code",
      "execution_count": 1,
      "metadata": {
        "colab": {
          "base_uri": "https://localhost:8080/"
        },
        "id": "sNvD3M0YH6ao",
        "outputId": "b055df4c-a4a0-4359-80b9-9564fba2569d"
      },
      "outputs": [
        {
          "output_type": "stream",
          "name": "stdout",
          "text": [
            "75.0cm²\n"
          ]
        }
      ],
      "source": [
        "top_side = 20\n",
        "bottom_side = 10\n",
        "height = 5\n",
        "area_trapezoid = (top_side + bottom_side) * height / 2\n",
        "print(f\"{area_trapezoid}cm²\")"
      ]
    }
  ]
}