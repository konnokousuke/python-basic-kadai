{
  "nbformat": 4,
  "nbformat_minor": 0,
  "metadata": {
    "colab": {
      "provenance": []
    },
    "kernelspec": {
      "name": "python3",
      "display_name": "Python 3"
    },
    "language_info": {
      "name": "python"
    }
  },
  "cells": [
    {
      "cell_type": "code",
      "execution_count": 1,
      "metadata": {
        "id": "vx2hP8r96Tpw",
        "outputId": "85be4f30-2c16-47af-c1ee-ef473e48578d",
        "colab": {
          "base_uri": "https://localhost:8080/"
        }
      },
      "outputs": [
        {
          "output_type": "stream",
          "name": "stdout",
          "text": [
            "税込価格は121.0円です。\n"
          ]
        }
      ],
      "source": [
        "def calculate(price, tax_rate):\n",
        "    # 税額を計算\n",
        "    tax_amount = price * (tax_rate / 100)\n",
        "    # 税込価格を計算\n",
        "    price_including_tax = price + tax_amount\n",
        "\n",
        "    return price_including_tax\n",
        "\n",
        "price = 110 # 価格\n",
        "tax_rate = 10 # 税率(10%)\n",
        "\n",
        "price_including_tax = calculate(price, tax_rate)\n",
        "\n",
        "print(f\"税込価格は{price_including_tax}円です。\")"
      ]
    }
  ]
}