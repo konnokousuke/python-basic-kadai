{
  "nbformat": 4,
  "nbformat_minor": 0,
  "metadata": {
    "colab": {
      "provenance": []
    },
    "kernelspec": {
      "name": "python3",
      "display_name": "Python 3"
    },
    "language_info": {
      "name": "python"
    }
  },
  "cells": [
    {
      "cell_type": "code",
      "execution_count": null,
      "metadata": {
        "colab": {
          "base_uri": "https://localhost:8080/"
        },
        "id": "otf8aZedZtSj",
        "outputId": "658d4805-fe73-48cb-80b6-68e89a2e1f5c"
      },
      "outputs": [
        {
          "output_type": "stream",
          "name": "stdout",
          "text": [
            "侍太郎は大人です\n",
            "侍花子は大人ではないです\n"
          ]
        }
      ],
      "source": [
        "class Human:\n",
        "  def __init__(self, name, age):\n",
        "    # コンストラクタ定義\n",
        "    self.name = name\n",
        "    self.age = age\n",
        "\n",
        "  # メソッド定義\n",
        "  def check_adult(self):\n",
        "    if self.age >= 20:\n",
        "      print(f\"{self.name}は大人です\")\n",
        "    else:\n",
        "      print(f\"{self.name}は大人ではないです\")\n",
        "\n",
        "# 空のリストを作成\n",
        "humans = []\n",
        "\n",
        "# インスタンス化しリストに格納\n",
        "humans.append(Human(\"侍太郎\", 36))\n",
        "humans.append(Human(\"侍花子\", 10))\n",
        "\n",
        "#メソッド呼び出し\n",
        "for human in humans:\n",
        "  human.check_adult()"
      ]
    }
  ]
}